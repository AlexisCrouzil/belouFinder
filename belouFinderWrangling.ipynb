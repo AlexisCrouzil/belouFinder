{
 "cells": [
  {
   "cell_type": "code",
   "execution_count": 1,
   "id": "48f54e4c",
   "metadata": {},
   "outputs": [],
   "source": [
    "from pyspark.sql import SparkSession\n",
    "import pandas as pd\n",
    "import re"
   ]
  },
  {
   "cell_type": "code",
   "execution_count": 2,
   "id": "edbdf8ad",
   "metadata": {},
   "outputs": [
    {
     "name": "stdout",
     "output_type": "stream",
     "text": [
      "                            Unnamed: 0 Unnamed: 1 Unnamed: 2  \\\n",
      "0    1990-1991 TOULOUSE-BLAGNAC ROSTER          #          N   \n",
      "1                           DEFENSEMEN        NaN        NaN   \n",
      "2                                  NaN        NaN        NaN   \n",
      "3                             FORWARDS        NaN        NaN   \n",
      "4                                  NaN        NaN        NaN   \n",
      "..                                 ...        ...        ...   \n",
      "741                                NaN        #13        NaN   \n",
      "742                                NaN        #34        NaN   \n",
      "743                                NaN        #27        NaN   \n",
      "744                                NaN        #59        NaN   \n",
      "745                                NaN         #3        NaN   \n",
      "\n",
      "                  Unnamed: 3 Unnamed: 4 Unnamed: 5                 Unnamed: 6  \\\n",
      "0                     PLAYER          A       BORN                 BIRTHPLACE   \n",
      "1                        NaN        NaN        NaN                        NaN   \n",
      "2      Christophe Chappa (D)         55       1969                        NaN   \n",
      "3                        NaN        NaN        NaN                        NaN   \n",
      "4         Étienne Aubert (F)         66       1958                        NaN   \n",
      "..                       ...        ...        ...                        ...   \n",
      "741      Marvin Krukoff (LW)         31       1993              Toulouse, FRA   \n",
      "742       Alex MacDonald (C)         27       1997  Windsor Junction, NS, CAN   \n",
      "743  Eddy Martin-Whalen (RW)         36       1988           LaSalle, QC, CAN   \n",
      "744        Camille Mutte (F)         20       2003              Toulouse, FRA   \n",
      "745          Pablo Sudor (F)         23       2001              Toulouse, FRA   \n",
      "\n",
      "    Unnamed: 7 Unnamed: 8 Unnamed: 9 Unnamed: 10  \n",
      "0           HT         WT          S         NaN  \n",
      "1          NaN        NaN        NaN         NaN  \n",
      "2          176         70         -0         NaN  \n",
      "3          NaN        NaN        NaN         NaN  \n",
      "4          183         76         -0         NaN  \n",
      "..         ...        ...        ...         ...  \n",
      "741        187         88          R       24/25  \n",
      "742        175         76          R       23/24  \n",
      "743        175         84          L         NaN  \n",
      "744        174         73          L       23/24  \n",
      "745        180         80          L       24/25  \n",
      "\n",
      "[746 rows x 11 columns]\n"
     ]
    }
   ],
   "source": [
    "csvFile='Effectif_saison_tbhc_DB.csv'\n",
    "\n",
    "df = pd.read_csv(csvFile)\n",
    "\n",
    "print(df)"
   ]
  },
  {
   "cell_type": "code",
   "execution_count": 3,
   "id": "21a070b2",
   "metadata": {},
   "outputs": [
    {
     "name": "stdout",
     "output_type": "stream",
     "text": [
      "                            Unnamed: 0 Unnamed: 1 Unnamed: 2  \\\n",
      "0    1990-1991 TOULOUSE-BLAGNAC ROSTER          #          N   \n",
      "1                           DEFENSEMEN        NaN        NaN   \n",
      "2                                  NaN        NaN        NaN   \n",
      "3                             FORWARDS        NaN        NaN   \n",
      "4                                  NaN        NaN        NaN   \n",
      "..                                 ...        ...        ...   \n",
      "741                                NaN        #13        NaN   \n",
      "742                                NaN        #34        NaN   \n",
      "743                                NaN        #27        NaN   \n",
      "744                                NaN        #59        NaN   \n",
      "745                                NaN         #3        NaN   \n",
      "\n",
      "                  Unnamed: 3 Unnamed: 4 Unnamed: 5                 Unnamed: 6  \\\n",
      "0                     PLAYER          A       BORN                 BIRTHPLACE   \n",
      "1                        NaN        NaN        NaN                        NaN   \n",
      "2      Christophe Chappa (D)         55       1969                        NaN   \n",
      "3                        NaN        NaN        NaN                        NaN   \n",
      "4         Étienne Aubert (F)         66       1958                        NaN   \n",
      "..                       ...        ...        ...                        ...   \n",
      "741      Marvin Krukoff (LW)         31       1993              Toulouse, FRA   \n",
      "742       Alex MacDonald (C)         27       1997  Windsor Junction, NS, CAN   \n",
      "743  Eddy Martin-Whalen (RW)         36       1988           LaSalle, QC, CAN   \n",
      "744        Camille Mutte (F)         20       2003              Toulouse, FRA   \n",
      "745          Pablo Sudor (F)         23       2001              Toulouse, FRA   \n",
      "\n",
      "    Unnamed: 7 Unnamed: 8 Unnamed: 9 Unnamed: 10     Saison  \n",
      "0           HT         WT          S         NaN  1990-1991  \n",
      "1          NaN        NaN        NaN         NaN  1990-1991  \n",
      "2          176         70         -0         NaN  1990-1991  \n",
      "3          NaN        NaN        NaN         NaN  1990-1991  \n",
      "4          183         76         -0         NaN  1990-1991  \n",
      "..         ...        ...        ...         ...        ...  \n",
      "741        187         88          R       24/25  2023-2024  \n",
      "742        175         76          R       23/24  2023-2024  \n",
      "743        175         84          L         NaN  2023-2024  \n",
      "744        174         73          L       23/24  2023-2024  \n",
      "745        180         80          L       24/25  2023-2024  \n",
      "\n",
      "[746 rows x 12 columns]\n"
     ]
    }
   ],
   "source": [
    "def extraireSaison(chaine):\n",
    "    global saison\n",
    "    match = re.match(r\"(\\d+(?:-\\d+)?)\", str(chaine))\n",
    "    if match:\n",
    "        saison = match.group(1)\n",
    "        return match.group(1)\n",
    "    else:\n",
    "        return saison\n",
    "                     \n",
    "df['Saison'] = df.iloc[:,0].apply(extraireSaison)\n",
    "\n",
    "print(df)"
   ]
  },
  {
   "cell_type": "code",
   "execution_count": 4,
   "id": "28c8ec02",
   "metadata": {},
   "outputs": [
    {
     "name": "stdout",
     "output_type": "stream",
     "text": [
      "                            Unnamed: 0 Unnamed: 1 Unnamed: 2  \\\n",
      "0    1990-1991 TOULOUSE-BLAGNAC ROSTER          #          N   \n",
      "1                           DEFENSEMEN        NaN        NaN   \n",
      "2                                  NaN        NaN        NaN   \n",
      "3                             FORWARDS        NaN        NaN   \n",
      "4                                  NaN        NaN        NaN   \n",
      "..                                 ...        ...        ...   \n",
      "741                                NaN        #13        NaN   \n",
      "742                                NaN        #34        NaN   \n",
      "743                                NaN        #27        NaN   \n",
      "744                                NaN        #59        NaN   \n",
      "745                                NaN         #3        NaN   \n",
      "\n",
      "                  Unnamed: 3 Unnamed: 4 Unnamed: 5                 Unnamed: 6  \\\n",
      "0                     PLAYER          A       BORN                 BIRTHPLACE   \n",
      "1                        NaN        NaN        NaN                        NaN   \n",
      "2      Christophe Chappa (D)         55       1969                        NaN   \n",
      "3                        NaN        NaN        NaN                        NaN   \n",
      "4         Étienne Aubert (F)         66       1958                        NaN   \n",
      "..                       ...        ...        ...                        ...   \n",
      "741      Marvin Krukoff (LW)         31       1993              Toulouse, FRA   \n",
      "742       Alex MacDonald (C)         27       1997  Windsor Junction, NS, CAN   \n",
      "743  Eddy Martin-Whalen (RW)         36       1988           LaSalle, QC, CAN   \n",
      "744        Camille Mutte (F)         20       2003              Toulouse, FRA   \n",
      "745          Pablo Sudor (F)         23       2001              Toulouse, FRA   \n",
      "\n",
      "    Unnamed: 7 Unnamed: 8 Unnamed: 9 Unnamed: 10     Saison       Poste  \n",
      "0           HT         WT          S         NaN  1990-1991         NaN  \n",
      "1          NaN        NaN        NaN         NaN  1990-1991  DEFENSEMEN  \n",
      "2          176         70         -0         NaN  1990-1991  DEFENSEMEN  \n",
      "3          NaN        NaN        NaN         NaN  1990-1991    FORWARDS  \n",
      "4          183         76         -0         NaN  1990-1991    FORWARDS  \n",
      "..         ...        ...        ...         ...        ...         ...  \n",
      "741        187         88          R       24/25  2023-2024    FORWARDS  \n",
      "742        175         76          R       23/24  2023-2024    FORWARDS  \n",
      "743        175         84          L         NaN  2023-2024    FORWARDS  \n",
      "744        174         73          L       23/24  2023-2024    FORWARDS  \n",
      "745        180         80          L       24/25  2023-2024    FORWARDS  \n",
      "\n",
      "[746 rows x 13 columns]\n"
     ]
    }
   ],
   "source": [
    "def extrairePoste(chaine):\n",
    "    global poste\n",
    "    match = re.match(r\"\\b(DEFENSEMEN|FORWARDS)\\b\", str(chaine))\n",
    "    if match:\n",
    "        poste = match.group(1)\n",
    "        return match.group(1)\n",
    "    else:\n",
    "        if len(poste)>0:\n",
    "            return poste\n",
    "                     \n",
    "df['Poste'] = df.iloc[1:,0].apply(extrairePoste)\n",
    "\n",
    "print(df)"
   ]
  },
  {
   "cell_type": "code",
   "execution_count": 5,
   "id": "036d727b",
   "metadata": {},
   "outputs": [
    {
     "name": "stdout",
     "output_type": "stream",
     "text": [
      "                            Unnamed: 0 Unnamed: 1 Unnamed: 2  \\\n",
      "0    1990-1991 TOULOUSE-BLAGNAC ROSTER          #          N   \n",
      "1                           DEFENSEMEN        NaN        NaN   \n",
      "2                                  NaN        NaN        NaN   \n",
      "3                             FORWARDS        NaN        NaN   \n",
      "4                                  NaN        NaN        NaN   \n",
      "..                                 ...        ...        ...   \n",
      "741                                NaN        #13        NaN   \n",
      "742                                NaN        #34        NaN   \n",
      "743                                NaN        #27        NaN   \n",
      "744                                NaN        #59        NaN   \n",
      "745                                NaN         #3        NaN   \n",
      "\n",
      "                  Unnamed: 3 Unnamed: 4 Unnamed: 5                 Unnamed: 6  \\\n",
      "0                     PLAYER          A       BORN                 BIRTHPLACE   \n",
      "1                        NaN        NaN        NaN                        NaN   \n",
      "2      Christophe Chappa (D)         55       1969                        NaN   \n",
      "3                        NaN        NaN        NaN                        NaN   \n",
      "4         Étienne Aubert (F)         66       1958                        NaN   \n",
      "..                       ...        ...        ...                        ...   \n",
      "741      Marvin Krukoff (LW)         31       1993              Toulouse, FRA   \n",
      "742       Alex MacDonald (C)         27       1997  Windsor Junction, NS, CAN   \n",
      "743  Eddy Martin-Whalen (RW)         36       1988           LaSalle, QC, CAN   \n",
      "744        Camille Mutte (F)         20       2003              Toulouse, FRA   \n",
      "745          Pablo Sudor (F)         23       2001              Toulouse, FRA   \n",
      "\n",
      "    Unnamed: 7 Unnamed: 8 Unnamed: 9 Unnamed: 10     Saison       Poste  \n",
      "0           HT         WT          S         NaN  1990-1991         NaN  \n",
      "1          NaN        NaN        NaN         NaN  1990-1991  DEFENSEMEN  \n",
      "2          176         70         -0         NaN  1990-1991  DEFENSEMEN  \n",
      "3          NaN        NaN        NaN         NaN  1990-1991    FORWARDS  \n",
      "4          183         76         -0         NaN  1990-1991    FORWARDS  \n",
      "..         ...        ...        ...         ...        ...         ...  \n",
      "741        187         88          R       24/25  2023-2024    FORWARDS  \n",
      "742        175         76          R       23/24  2023-2024    FORWARDS  \n",
      "743        175         84          L         NaN  2023-2024    FORWARDS  \n",
      "744        174         73          L       23/24  2023-2024    FORWARDS  \n",
      "745        180         80          L       24/25  2023-2024    FORWARDS  \n",
      "\n",
      "[746 rows x 13 columns]\n"
     ]
    }
   ],
   "source": [
    "def deleteNoPlayer(chaine):\n",
    "    global poste\n",
    "    match = re.match(r\"\\b(DEFENSEMEN|FORWARDS)\\b\", str(chaine))\n",
    "    if match:\n",
    "        poste = match.group(1)\n",
    "        return match.group(1)\n",
    "    else:\n",
    "        if len(poste)>0:\n",
    "            return poste\n",
    "                     \n",
    "df['Poste'] = df.iloc[1:,0].apply(extrairePoste)\n",
    "\n",
    "print(df)"
   ]
  },
  {
   "cell_type": "code",
   "execution_count": 6,
   "id": "ba41d214",
   "metadata": {},
   "outputs": [],
   "source": [
    "newColNames = list(df.columns)\n",
    "\n",
    "for i in range(11):\n",
    "    newColNames[i]=df.iloc[0,i]\n",
    "\n",
    "df.columns=newColNames\n",
    "\n",
    "df=df.drop(index=0)#.reset_index(drop=True)\n"
   ]
  },
  {
   "cell_type": "code",
   "execution_count": 7,
   "id": "f5b1824a",
   "metadata": {},
   "outputs": [
    {
     "name": "stdout",
     "output_type": "stream",
     "text": [
      "       #    N                   PLAYER    A  BORN                 BIRTHPLACE  \\\n",
      "1    NaN  NaN                      NaN  NaN   NaN                        NaN   \n",
      "2    NaN  NaN    Christophe Chappa (D)   55  1969                        NaN   \n",
      "3    NaN  NaN                      NaN  NaN   NaN                        NaN   \n",
      "4    NaN  NaN       Étienne Aubert (F)   66  1958                        NaN   \n",
      "5    NaN  NaN    Dominique Blondin (F)   57  1967                        NaN   \n",
      "..   ...  ...                      ...  ...   ...                        ...   \n",
      "741  #13  NaN      Marvin Krukoff (LW)   31  1993              Toulouse, FRA   \n",
      "742  #34  NaN       Alex MacDonald (C)   27  1997  Windsor Junction, NS, CAN   \n",
      "743  #27  NaN  Eddy Martin-Whalen (RW)   36  1988           LaSalle, QC, CAN   \n",
      "744  #59  NaN        Camille Mutte (F)   20  2003              Toulouse, FRA   \n",
      "745   #3  NaN          Pablo Sudor (F)   23  2001              Toulouse, FRA   \n",
      "\n",
      "      HT   WT    S     Saison       Poste  \n",
      "1    NaN  NaN  NaN  1990-1991  DEFENSEMEN  \n",
      "2    176   70   -0  1990-1991  DEFENSEMEN  \n",
      "3    NaN  NaN  NaN  1990-1991    FORWARDS  \n",
      "4    183   76   -0  1990-1991    FORWARDS  \n",
      "5    173   75   -0  1990-1991    FORWARDS  \n",
      "..   ...  ...  ...        ...         ...  \n",
      "741  187   88    R  2023-2024    FORWARDS  \n",
      "742  175   76    R  2023-2024    FORWARDS  \n",
      "743  175   84    L  2023-2024    FORWARDS  \n",
      "744  174   73    L  2023-2024    FORWARDS  \n",
      "745  180   80    L  2023-2024    FORWARDS  \n",
      "\n",
      "[745 rows x 11 columns]\n"
     ]
    }
   ],
   "source": [
    "df1=df.iloc[:,[1,2,3,4,5,6,7,8,9,11,12]]\n",
    "\n",
    "print(df1)"
   ]
  },
  {
   "cell_type": "code",
   "execution_count": 21,
   "id": "58a97bd2",
   "metadata": {},
   "outputs": [
    {
     "name": "stdout",
     "output_type": "stream",
     "text": [
      "       #    N                   PLAYER   A  BORN                 BIRTHPLACE  \\\n",
      "2    NaN  NaN    Christophe Chappa (D)  55  1969                        NaN   \n",
      "4    NaN  NaN       Étienne Aubert (F)  66  1958                        NaN   \n",
      "5    NaN  NaN    Dominique Blondin (F)  57  1967                        NaN   \n",
      "7      #    N                   PLAYER   A  BORN                 BIRTHPLACE   \n",
      "9    NaN  NaN    Christophe Chappa (D)  55  1969                        NaN   \n",
      "..   ...  ...                      ...  ..   ...                        ...   \n",
      "741  #13  NaN      Marvin Krukoff (LW)  31  1993              Toulouse, FRA   \n",
      "742  #34  NaN       Alex MacDonald (C)  27  1997  Windsor Junction, NS, CAN   \n",
      "743  #27  NaN  Eddy Martin-Whalen (RW)  36  1988           LaSalle, QC, CAN   \n",
      "744  #59  NaN        Camille Mutte (F)  20  2003              Toulouse, FRA   \n",
      "745   #3  NaN          Pablo Sudor (F)  23  2001              Toulouse, FRA   \n",
      "\n",
      "      HT  WT   S     Saison       Poste  \n",
      "2    176  70  -0  1990-1991  DEFENSEMEN  \n",
      "4    183  76  -0  1990-1991    FORWARDS  \n",
      "5    173  75  -0  1990-1991    FORWARDS  \n",
      "7     HT  WT   S  1991-1992    FORWARDS  \n",
      "9    176  70  -0  1991-1992  DEFENSEMEN  \n",
      "..   ...  ..  ..        ...         ...  \n",
      "741  187  88   R  2023-2024    FORWARDS  \n",
      "742  175  76   R  2023-2024    FORWARDS  \n",
      "743  175  84   L  2023-2024    FORWARDS  \n",
      "744  174  73   L  2023-2024    FORWARDS  \n",
      "745  180  80   L  2023-2024    FORWARDS  \n",
      "\n",
      "[620 rows x 11 columns]\n"
     ]
    }
   ],
   "source": [
    "df1=df1.dropna(subset=['PLAYER'])\n",
    "print(df1)"
   ]
  },
  {
   "cell_type": "code",
   "execution_count": 22,
   "id": "e4103782",
   "metadata": {},
   "outputs": [
    {
     "name": "stdout",
     "output_type": "stream",
     "text": [
      "       #    N                   PLAYER   A  BORN                 BIRTHPLACE  \\\n",
      "2    NaN  NaN    Christophe Chappa (D)  55  1969                        NaN   \n",
      "4    NaN  NaN       Étienne Aubert (F)  66  1958                        NaN   \n",
      "5    NaN  NaN    Dominique Blondin (F)  57  1967                        NaN   \n",
      "9    NaN  NaN    Christophe Chappa (D)  55  1969                        NaN   \n",
      "10   NaN  NaN    François Gleize (D/F)  53  1970            Romorantin, FRA   \n",
      "..   ...  ...                      ...  ..   ...                        ...   \n",
      "741  #13  NaN      Marvin Krukoff (LW)  31  1993              Toulouse, FRA   \n",
      "742  #34  NaN       Alex MacDonald (C)  27  1997  Windsor Junction, NS, CAN   \n",
      "743  #27  NaN  Eddy Martin-Whalen (RW)  36  1988           LaSalle, QC, CAN   \n",
      "744  #59  NaN        Camille Mutte (F)  20  2003              Toulouse, FRA   \n",
      "745   #3  NaN          Pablo Sudor (F)  23  2001              Toulouse, FRA   \n",
      "\n",
      "      HT  WT   S     Saison       Poste  \n",
      "2    176  70  -0  1990-1991  DEFENSEMEN  \n",
      "4    183  76  -0  1990-1991    FORWARDS  \n",
      "5    173  75  -0  1990-1991    FORWARDS  \n",
      "9    176  70  -0  1991-1992  DEFENSEMEN  \n",
      "10   183  72   L  1991-1992  DEFENSEMEN  \n",
      "..   ...  ..  ..        ...         ...  \n",
      "741  187  88   R  2023-2024    FORWARDS  \n",
      "742  175  76   R  2023-2024    FORWARDS  \n",
      "743  175  84   L  2023-2024    FORWARDS  \n",
      "744  174  73   L  2023-2024    FORWARDS  \n",
      "745  180  80   L  2023-2024    FORWARDS  \n",
      "\n",
      "[588 rows x 11 columns]\n"
     ]
    }
   ],
   "source": [
    "df1=df1[df1['PLAYER']!='PLAYER']\n",
    "print(df1)"
   ]
  },
  {
   "cell_type": "code",
   "execution_count": 24,
   "id": "a46af7eb",
   "metadata": {},
   "outputs": [],
   "source": [
    "df1.to_csv('Effectif_saison_tbhc_DB_clean.csv')"
   ]
  }
 ],
 "metadata": {
  "kernelspec": {
   "display_name": "Python 3 (ipykernel)",
   "language": "python",
   "name": "python3"
  },
  "language_info": {
   "codemirror_mode": {
    "name": "ipython",
    "version": 3
   },
   "file_extension": ".py",
   "mimetype": "text/x-python",
   "name": "python",
   "nbconvert_exporter": "python",
   "pygments_lexer": "ipython3",
   "version": "3.10.9"
  }
 },
 "nbformat": 4,
 "nbformat_minor": 5
}
